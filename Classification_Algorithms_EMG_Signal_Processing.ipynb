{
  "nbformat": 4,
  "nbformat_minor": 0,
  "metadata": {
    "colab": {
      "provenance": [],
      "authorship_tag": "ABX9TyObW0kaaLvHqBD7hBibQJcU",
      "include_colab_link": true
    },
    "kernelspec": {
      "name": "python3",
      "display_name": "Python 3"
    },
    "language_info": {
      "name": "python"
    }
  },
  "cells": [
    {
      "cell_type": "markdown",
      "metadata": {
        "id": "view-in-github",
        "colab_type": "text"
      },
      "source": [
        "<a href=\"https://colab.research.google.com/github/ttahiat/EMG_SIgnal_Classification/blob/main/Classification_Algorithms_EMG_Signal_Processing.ipynb\" target=\"_parent\"><img src=\"https://colab.research.google.com/assets/colab-badge.svg\" alt=\"Open In Colab\"/></a>"
      ]
    },
    {
      "cell_type": "markdown",
      "source": [
        "In order to start the classification we must first link the reprository which in this case is the drive folder."
      ],
      "metadata": {
        "id": "WBUcb8--fM8e"
      }
    },
    {
      "cell_type": "code",
      "execution_count": 1,
      "metadata": {
        "id": "WvKFzQQufBlv",
        "colab": {
          "base_uri": "https://localhost:8080/"
        },
        "outputId": "f961ffa8-839d-42d2-e7d8-288ed64a3a2a"
      },
      "outputs": [
        {
          "output_type": "stream",
          "name": "stdout",
          "text": [
            "Mounted at /content/drive\n"
          ]
        }
      ],
      "source": [
        "from google.colab import drive\n",
        "drive.mount('/content/drive')"
      ]
    },
    {
      "cell_type": "markdown",
      "source": [
        "Next, all the necessary libraries are imported."
      ],
      "metadata": {
        "id": "fQdewWs6f22N"
      }
    },
    {
      "cell_type": "code",
      "source": [
        "import matplotlib.pyplot as plt\n",
        "import scipy.io\n",
        "import numpy as np\n",
        "import pandas as pd\n",
        "import os\n",
        "import pywt\n",
        "import mpmath\n",
        "import seaborn as sns\n",
        "import xgboost as xgb\n",
        "\n",
        "from sklearn.model_selection import train_test_split\n",
        "from sklearn.preprocessing import MinMaxScaler, StandardScaler, LabelEncoder\n",
        "from sklearn.ensemble import RandomForestClassifier\n",
        "from sklearn.ensemble import ExtraTreesClassifier\n",
        "from sklearn.metrics import accuracy_score"
      ],
      "metadata": {
        "id": "OClmDqHXf9Eh"
      },
      "execution_count": 2,
      "outputs": []
    },
    {
      "cell_type": "markdown",
      "source": [
        "Each Subject file is then parsed and three different movenments are classified"
      ],
      "metadata": {
        "id": "SuHrEoT8gOrx"
      }
    },
    {
      "cell_type": "code",
      "source": [
        "file_paths = [\n",
        "    '/content/drive/MyDrive/Dataset/Ninapro_DB5/S1_E1_A1.mat',\n",
        "    '/content/drive/MyDrive/Dataset/Ninapro_DB5/S1_E2_A1.mat',\n",
        "    '/content/drive/MyDrive/Dataset/Ninapro_DB5/S1_E3_A1.mat'\n",
        "]"
      ],
      "metadata": {
        "id": "zi1Pjvx1XZjv"
      },
      "execution_count": 3,
      "outputs": []
    },
    {
      "cell_type": "markdown",
      "source": [
        "Function to extract information from the .mat files and store them in a dataframe"
      ],
      "metadata": {
        "id": "EK2THSUbLOhM"
      }
    },
    {
      "cell_type": "code",
      "source": [
        "def extract_data(file_path,n):\n",
        "    # Load the .mat file\n",
        "    mat = scipy.io.loadmat(file_path)\n",
        "    emg = mat['emg']\n",
        "    grasp = mat['exercise']\n",
        "\n",
        "    # Create DataFrame\n",
        "    df = pd.DataFrame(emg, columns=[f'EMG{i+1}' for i in range(16)])\n",
        "    df['grasp'] = n\n",
        "\n",
        "    # Reset the index of the resampled DataFrame\n",
        "    df = df.reset_index(drop=True)\n",
        "    return df"
      ],
      "metadata": {
        "id": "HCf5VWx9gOCR"
      },
      "execution_count": 4,
      "outputs": []
    },
    {
      "cell_type": "markdown",
      "source": [
        "Combining the files together into one dataframe"
      ],
      "metadata": {
        "id": "RS23NDf0LbL4"
      }
    },
    {
      "cell_type": "code",
      "source": [
        "n=0\n",
        "resampled_dfs = []\n",
        "for file_path in file_paths:\n",
        "    n=n+1\n",
        "    resampled_data = extract_data(file_path,n)\n",
        "    resampled_dfs.append(resampled_data)\n",
        "\n",
        "combined_df = pd.concat(resampled_dfs, ignore_index=True)\n",
        "\n",
        "print(\"Combined DataFrame:\")\n",
        "print(combined_df.shape)\n",
        "print(combined_df.head(5))\n",
        "df = combined_df"
      ],
      "metadata": {
        "colab": {
          "base_uri": "https://localhost:8080/"
        },
        "id": "SMQAh5W4Vxob",
        "outputId": "67b57e85-9a4f-4f20-d6fe-0daf32c8e035"
      },
      "execution_count": 5,
      "outputs": [
        {
          "output_type": "stream",
          "name": "stdout",
          "text": [
            "Combined DataFrame:\n",
            "(568540, 17)\n",
            "   EMG1  EMG2  EMG3  EMG4  EMG5  EMG6  EMG7  EMG8  EMG9  EMG10  EMG11  EMG12  \\\n",
            "0 -22.0  -2.0 -16.0  -7.0  -3.0  -1.0  -2.0  -4.0  -2.0  -46.0  -49.0   -5.0   \n",
            "1   5.0  -4.0 -12.0  -3.0   8.0  25.0   1.0   1.0  -2.0   66.0   28.0    3.0   \n",
            "2  -6.0   1.0   4.0  -1.0  -9.0   0.0 -10.0  -3.0  -9.0  -52.0  -24.0   -2.0   \n",
            "3  15.0  10.0  19.0   9.0  10.0   7.0   2.0   1.0  -4.0  -13.0   19.0    4.0   \n",
            "4  -1.0 -16.0 -17.0   0.0  -2.0  -7.0   2.0   0.0  -6.0   27.0    7.0   -1.0   \n",
            "\n",
            "   EMG13  EMG14  EMG15  EMG16  grasp  \n",
            "0    9.0    1.0   -1.0   -2.0      1  \n",
            "1   22.0   10.0    2.0    1.0      1  \n",
            "2  -52.0  -14.0  -24.0   -3.0      1  \n",
            "3   28.0    6.0   -5.0  -12.0      1  \n",
            "4  -22.0   -2.0   -7.0   15.0      1  \n"
          ]
        }
      ]
    },
    {
      "cell_type": "markdown",
      "metadata": {
        "id": "aB2hGdSUD8is"
      },
      "source": [
        "## Distribution of Grasp\n"
      ]
    },
    {
      "cell_type": "code",
      "execution_count": 6,
      "metadata": {
        "id": "ijohzfFzCT4W",
        "colab": {
          "base_uri": "https://localhost:8080/",
          "height": 521
        },
        "outputId": "879413ac-92b2-47b1-b989-2a27e42c2319"
      },
      "outputs": [
        {
          "output_type": "display_data",
          "data": {
            "text/plain": [
              "<Figure size 1200x600 with 1 Axes>"
            ],
            "image/png": "[encoded data removed]"
          },
          "metadata": {}
        }
      ],
      "source": [
        "sns.set(style='whitegrid')\n",
        "\n",
        "plt.figure(figsize=(12, 6))\n",
        "\n",
        "grasp_counts = combined_df[\"grasp\"].value_counts()\n",
        "\n",
        "labels = grasp_counts.index.tolist()\n",
        "counts = grasp_counts.values.tolist()\n",
        "\n",
        "explode = [0.1] * len(labels)  # Adjust as needed\n",
        "\n",
        "plt.pie(counts, labels=labels, explode=explode, autopct='%1.2f%%', colors=['#E37383', '#FFC0CB'], startangle=90)\n",
        "plt.title('Grasp')\n",
        "plt.axis('equal')\n",
        "plt.show()"
      ]
    },
    {
      "cell_type": "markdown",
      "source": [
        "Check whether there are any null emg signal columns"
      ],
      "metadata": {
        "id": "Ob47T2uJL-iD"
      }
    },
    {
      "cell_type": "code",
      "execution_count": 7,
      "metadata": {
        "id": "thnBO5gxBBFA",
        "colab": {
          "base_uri": "https://localhost:8080/"
        },
        "outputId": "46a1aab7-1955-4112-ec3e-98da192ada55"
      },
      "outputs": [
        {
          "output_type": "execute_result",
          "data": {
            "text/plain": [
              "EMG1     0\n",
              "EMG2     0\n",
              "EMG3     0\n",
              "EMG4     0\n",
              "EMG5     0\n",
              "EMG6     0\n",
              "EMG7     0\n",
              "EMG8     0\n",
              "EMG9     0\n",
              "EMG10    0\n",
              "EMG11    0\n",
              "EMG12    0\n",
              "EMG13    0\n",
              "EMG14    0\n",
              "EMG15    0\n",
              "EMG16    0\n",
              "grasp    0\n",
              "dtype: int64"
            ]
          },
          "metadata": {},
          "execution_count": 7
        }
      ],
      "source": [
        "df.isnull().sum(axis = 0)"
      ]
    },
    {
      "cell_type": "markdown",
      "source": [
        "To avoid bais the number of samples for each movenment is kept the same"
      ],
      "metadata": {
        "id": "9Q3ypQaVMGRV"
      }
    },
    {
      "cell_type": "code",
      "source": [
        "grasp_counts = df['grasp'].value_counts()\n",
        "\n",
        "min_count = grasp_counts.min()\n",
        "\n",
        "resampled_df = pd.DataFrame()\n",
        "resampled_df = df.groupby('grasp').apply(lambda x: x.sample(n=min_count, random_state=42))\n",
        "resampled_df = resampled_df.reset_index(drop=True)\n",
        "\n",
        "df=resampled_df"
      ],
      "metadata": {
        "id": "uee-ImokYZdX"
      },
      "execution_count": 8,
      "outputs": []
    },
    {
      "cell_type": "markdown",
      "source": [
        "Grasp distribution after resampling"
      ],
      "metadata": {
        "id": "H1mky4XUMfWY"
      }
    },
    {
      "cell_type": "code",
      "execution_count": 9,
      "metadata": {
        "id": "wxPMVxfwB67j",
        "colab": {
          "base_uri": "https://localhost:8080/"
        },
        "outputId": "9220aa4c-76e4-4787-9136-5b9e898aa443"
      },
      "outputs": [
        {
          "output_type": "execute_result",
          "data": {
            "text/plain": [
              "grasp\n",
              "1    130267\n",
              "2    130267\n",
              "3    130267\n",
              "Name: count, dtype: int64"
            ]
          },
          "metadata": {},
          "execution_count": 9
        }
      ],
      "source": [
        "df['grasp'].value_counts(sort=1)"
      ]
    },
    {
      "cell_type": "code",
      "source": [
        "df.head(3)"
      ],
      "metadata": {
        "colab": {
          "base_uri": "https://localhost:8080/",
          "height": 143
        },
        "id": "qMzy-F0aZrz2",
        "outputId": "cb2a2b9e-e0a6-443e-ef1c-c95dbea7d176"
      },
      "execution_count": 10,
      "outputs": [
        {
          "output_type": "execute_result",
          "data": {
            "text/plain": [
              "   EMG1  EMG2  EMG3  EMG4  EMG5  EMG6  EMG7  EMG8  EMG9  EMG10  EMG11  EMG12  \\\n",
              "0   0.0   9.0   0.0   0.0   1.0  10.0   0.0  -1.0  -4.0   -1.0    2.0   -2.0   \n",
              "1  -1.0  -5.0   4.0  -1.0  -1.0   0.0  -2.0   1.0  -2.0   -2.0   -1.0    0.0   \n",
              "2  -3.0  -2.0   0.0   0.0   1.0   3.0 -11.0   2.0  -3.0   -2.0   -3.0   -1.0   \n",
              "\n",
              "   EMG13  EMG14  EMG15  EMG16  grasp  \n",
              "0    0.0   -1.0   -1.0   -4.0      1  \n",
              "1   -2.0   -3.0   -2.0   -3.0      1  \n",
              "2   -1.0   -7.0   -1.0   -3.0      1  "
            ],
            "text/html": [
              "\n",
              "  <div id=\"df-d916a4a2-65a1-44eb-ba7c-43f699437af7\" class=\"colab-df-container\">\n",
              "    <div>\n",
              "<style scoped>\n",
              "    .dataframe tbody tr th:only-of-type {\n",
              "        vertical-align: middle;\n",
              "    }\n",
              "\n",
              "    .dataframe tbody tr th {\n",
              "        vertical-align: top;\n",
              "    }\n",
              "\n",
              "    .dataframe thead th {\n",
              "        text-align: right;\n",
              "    }\n",
              "</style>\n",
              "<table border=\"1\" class=\"dataframe\">\n",
              "  <thead>\n",
              "    <tr style=\"text-align: right;\">\n",
              "      <th></th>\n",
              "      <th>EMG1</th>\n",
              "      <th>EMG2</th>\n",
              "      <th>EMG3</th>\n",
              "      <th>EMG4</th>\n",
              "      <th>EMG5</th>\n",
              "      <th>EMG6</th>\n",
              "      <th>EMG7</th>\n",
              "      <th>EMG8</th>\n",
              "      <th>EMG9</th>\n",
              "      <th>EMG10</th>\n",
              "      <th>EMG11</th>\n",
              "      <th>EMG12</th>\n",
              "      <th>EMG13</th>\n",
              "      <th>EMG14</th>\n",
              "      <th>EMG15</th>\n",
              "      <th>EMG16</th>\n",
              "      <th>grasp</th>\n",
              "    </tr>\n",
              "  </thead>\n",
              "  <tbody>\n",
              "    <tr>\n",
              "      <th>0</th>\n",
              "      <td>0.0</td>\n",
              "      <td>9.0</td>\n",
              "      <td>0.0</td>\n",
              "      <td>0.0</td>\n",
              "      <td>1.0</td>\n",
              "      <td>10.0</td>\n",
              "      <td>0.0</td>\n",
              "      <td>-1.0</td>\n",
              "      <td>-4.0</td>\n",
              "      <td>-1.0</td>\n",
              "      <td>2.0</td>\n",
              "      <td>-2.0</td>\n",
              "      <td>0.0</td>\n",
              "      <td>-1.0</td>\n",
              "      <td>-1.0</td>\n",
              "      <td>-4.0</td>\n",
              "      <td>1</td>\n",
              "    </tr>\n",
              "    <tr>\n",
              "      <th>1</th>\n",
              "      <td>-1.0</td>\n",
              "      <td>-5.0</td>\n",
              "      <td>4.0</td>\n",
              "      <td>-1.0</td>\n",
              "      <td>-1.0</td>\n",
              "      <td>0.0</td>\n",
              "      <td>-2.0</td>\n",
              "      <td>1.0</td>\n",
              "      <td>-2.0</td>\n",
              "      <td>-2.0</td>\n",
              "      <td>-1.0</td>\n",
              "      <td>0.0</td>\n",
              "      <td>-2.0</td>\n",
              "      <td>-3.0</td>\n",
              "      <td>-2.0</td>\n",
              "      <td>-3.0</td>\n",
              "      <td>1</td>\n",
              "    </tr>\n",
              "    <tr>\n",
              "      <th>2</th>\n",
              "      <td>-3.0</td>\n",
              "      <td>-2.0</td>\n",
              "      <td>0.0</td>\n",
              "      <td>0.0</td>\n",
              "      <td>1.0</td>\n",
              "      <td>3.0</td>\n",
              "      <td>-11.0</td>\n",
              "      <td>2.0</td>\n",
              "      <td>-3.0</td>\n",
              "      <td>-2.0</td>\n",
              "      <td>-3.0</td>\n",
              "      <td>-1.0</td>\n",
              "      <td>-1.0</td>\n",
              "      <td>-7.0</td>\n",
              "      <td>-1.0</td>\n",
              "      <td>-3.0</td>\n",
              "      <td>1</td>\n",
              "    </tr>\n",
              "  </tbody>\n",
              "</table>\n",
              "</div>\n",
              "    <div class=\"colab-df-buttons\">\n",
              "\n",
              "  <div class=\"colab-df-container\">\n",
              "    <button class=\"colab-df-convert\" onclick=\"convertToInteractive('df-d916a4a2-65a1-44eb-ba7c-43f699437af7')\"\n",
              "            title=\"Convert this dataframe to an interactive table.\"\n",
              "            style=\"display:none;\">\n",
              "\n",
              "  <svg xmlns=\"http://www.w3.org/2000/svg\" height=\"24px\" viewBox=\"0 -960 960 960\">\n",
              "    <path d=\"M120-120v-720h720v720H120Zm60-500h600v-160H180v160Zm220 220h160v-160H400v160Zm0 220h160v-160H400v160ZM180-400h160v-160H180v160Zm440 0h160v-160H620v160ZM180-180h160v-160H180v160Zm440 0h160v-160H620v160Z\"/>\n",
              "  </svg>\n",
              "    </button>\n",
              "\n",
              "  <style>\n",
              "    .colab-df-container {\n",
              "      display:flex;\n",
              "      gap: 12px;\n",
              "    }\n",
              "\n",
              "    .colab-df-convert {\n",
              "      background-color: #E8F0FE;\n",
              "      border: none;\n",
              "      border-radius: 50%;\n",
              "      cursor: pointer;\n",
              "      display: none;\n",
              "      fill: #1967D2;\n",
              "      height: 32px;\n",
              "      padding: 0 0 0 0;\n",
              "      width: 32px;\n",
              "    }\n",
              "\n",
              "    .colab-df-convert:hover {\n",
              "      background-color: #E2EBFA;\n",
              "      box-shadow: 0px 1px 2px rgba(60, 64, 67, 0.3), 0px 1px 3px 1px rgba(60, 64, 67, 0.15);\n",
              "      fill: #174EA6;\n",
              "    }\n",
              "\n",
              "    .colab-df-buttons div {\n",
              "      margin-bottom: 4px;\n",
              "    }\n",
              "\n",
              "    [theme=dark] .colab-df-convert {\n",
              "      background-color: #3B4455;\n",
              "      fill: #D2E3FC;\n",
              "    }\n",
              "\n",
              "    [theme=dark] .colab-df-convert:hover {\n",
              "      background-color: #434B5C;\n",
              "      box-shadow: 0px 1px 3px 1px rgba(0, 0, 0, 0.15);\n",
              "      filter: drop-shadow(0px 1px 2px rgba(0, 0, 0, 0.3));\n",
              "      fill: #FFFFFF;\n",
              "    }\n",
              "  </style>\n",
              "\n",
              "    <script>\n",
              "      const buttonEl =\n",
              "        document.querySelector('#df-d916a4a2-65a1-44eb-ba7c-43f699437af7 button.colab-df-convert');\n",
              "      buttonEl.style.display =\n",
              "        google.colab.kernel.accessAllowed ? 'block' : 'none';\n",
              "\n",
              "      async function convertToInteractive(key) {\n",
              "        const element = document.querySelector('#df-d916a4a2-65a1-44eb-ba7c-43f699437af7');\n",
              "        const dataTable =\n",
              "          await google.colab.kernel.invokeFunction('convertToInteractive',\n",
              "                                                    [key], {});\n",
              "        if (!dataTable) return;\n",
              "\n",
              "        const docLinkHtml = 'Like what you see? Visit the ' +\n",
              "          '<a target=\"_blank\" href=https://colab.research.google.com/notebooks/data_table.ipynb>data table notebook</a>'\n",
              "          + ' to learn more about interactive tables.';\n",
              "        element.innerHTML = '';\n",
              "        dataTable['output_type'] = 'display_data';\n",
              "        await google.colab.output.renderOutput(dataTable, element);\n",
              "        const docLink = document.createElement('div');\n",
              "        docLink.innerHTML = docLinkHtml;\n",
              "        element.appendChild(docLink);\n",
              "      }\n",
              "    </script>\n",
              "  </div>\n",
              "\n",
              "\n",
              "<div id=\"df-7c2eba1c-2870-45bc-808b-480ab16abf57\">\n",
              "  <button class=\"colab-df-quickchart\" onclick=\"quickchart('df-7c2eba1c-2870-45bc-808b-480ab16abf57')\"\n",
              "            title=\"Suggest charts\"\n",
              "            style=\"display:none;\">\n",
              "\n",
              "<svg xmlns=\"http://www.w3.org/2000/svg\" height=\"24px\"viewBox=\"0 0 24 24\"\n",
              "     width=\"24px\">\n",
              "    <g>\n",
              "        <path d=\"M19 3H5c-1.1 0-2 .9-2 2v14c0 1.1.9 2 2 2h14c1.1 0 2-.9 2-2V5c0-1.1-.9-2-2-2zM9 17H7v-7h2v7zm4 0h-2V7h2v10zm4 0h-2v-4h2v4z\"/>\n",
              "    </g>\n",
              "</svg>\n",
              "  </button>\n",
              "\n",
              "<style>\n",
              "  .colab-df-quickchart {\n",
              "      --bg-color: #E8F0FE;\n",
              "      --fill-color: #1967D2;\n",
              "      --hover-bg-color: #E2EBFA;\n",
              "      --hover-fill-color: #174EA6;\n",
              "      --disabled-fill-color: #AAA;\n",
              "      --disabled-bg-color: #DDD;\n",
              "  }\n",
              "\n",
              "  [theme=dark] .colab-df-quickchart {\n",
              "      --bg-color: #3B4455;\n",
              "      --fill-color: #D2E3FC;\n",
              "      --hover-bg-color: #434B5C;\n",
              "      --hover-fill-color: #FFFFFF;\n",
              "      --disabled-bg-color: #3B4455;\n",
              "      --disabled-fill-color: #666;\n",
              "  }\n",
              "\n",
              "  .colab-df-quickchart {\n",
              "    background-color: var(--bg-color);\n",
              "    border: none;\n",
              "    border-radius: 50%;\n",
              "    cursor: pointer;\n",
              "    display: none;\n",
              "    fill: var(--fill-color);\n",
              "    height: 32px;\n",
              "    padding: 0;\n",
              "    width: 32px;\n",
              "  }\n",
              "\n",
              "  .colab-df-quickchart:hover {\n",
              "    background-color: var(--hover-bg-color);\n",
              "    box-shadow: 0 1px 2px rgba(60, 64, 67, 0.3), 0 1px 3px 1px rgba(60, 64, 67, 0.15);\n",
              "    fill: var(--button-hover-fill-color);\n",
              "  }\n",
              "\n",
              "  .colab-df-quickchart-complete:disabled,\n",
              "  .colab-df-quickchart-complete:disabled:hover {\n",
              "    background-color: var(--disabled-bg-color);\n",
              "    fill: var(--disabled-fill-color);\n",
              "    box-shadow: none;\n",
              "  }\n",
              "\n",
              "  .colab-df-spinner {\n",
              "    border: 2px solid var(--fill-color);\n",
              "    border-color: transparent;\n",
              "    border-bottom-color: var(--fill-color);\n",
              "    animation:\n",
              "      spin 1s steps(1) infinite;\n",
              "  }\n",
              "\n",
              "  @keyframes spin {\n",
              "    0% {\n",
              "      border-color: transparent;\n",
              "      border-bottom-color: var(--fill-color);\n",
              "      border-left-color: var(--fill-color);\n",
              "    }\n",
              "    20% {\n",
              "      border-color: transparent;\n",
              "      border-left-color: var(--fill-color);\n",
              "      border-top-color: var(--fill-color);\n",
              "    }\n",
              "    30% {\n",
              "      border-color: transparent;\n",
              "      border-left-color: var(--fill-color);\n",
              "      border-top-color: var(--fill-color);\n",
              "      border-right-color: var(--fill-color);\n",
              "    }\n",
              "    40% {\n",
              "      border-color: transparent;\n",
              "      border-right-color: var(--fill-color);\n",
              "      border-top-color: var(--fill-color);\n",
              "    }\n",
              "    60% {\n",
              "      border-color: transparent;\n",
              "      border-right-color: var(--fill-color);\n",
              "    }\n",
              "    80% {\n",
              "      border-color: transparent;\n",
              "      border-right-color: var(--fill-color);\n",
              "      border-bottom-color: var(--fill-color);\n",
              "    }\n",
              "    90% {\n",
              "      border-color: transparent;\n",
              "      border-bottom-color: var(--fill-color);\n",
              "    }\n",
              "  }\n",
              "</style>\n",
              "\n",
              "  <script>\n",
              "    async function quickchart(key) {\n",
              "      const quickchartButtonEl =\n",
              "        document.querySelector('#' + key + ' button');\n",
              "      quickchartButtonEl.disabled = true;  // To prevent multiple clicks.\n",
              "      quickchartButtonEl.classList.add('colab-df-spinner');\n",
              "      try {\n",
              "        const charts = await google.colab.kernel.invokeFunction(\n",
              "            'suggestCharts', [key], {});\n",
              "      } catch (error) {\n",
              "        console.error('Error during call to suggestCharts:', error);\n",
              "      }\n",
              "      quickchartButtonEl.classList.remove('colab-df-spinner');\n",
              "      quickchartButtonEl.classList.add('colab-df-quickchart-complete');\n",
              "    }\n",
              "    (() => {\n",
              "      let quickchartButtonEl =\n",
              "        document.querySelector('#df-7c2eba1c-2870-45bc-808b-480ab16abf57 button');\n",
              "      quickchartButtonEl.style.display =\n",
              "        google.colab.kernel.accessAllowed ? 'block' : 'none';\n",
              "    })();\n",
              "  </script>\n",
              "</div>\n",
              "\n",
              "    </div>\n",
              "  </div>\n"
            ],
            "application/vnd.google.colaboratory.intrinsic+json": {
              "type": "dataframe",
              "variable_name": "df"
            }
          },
          "metadata": {},
          "execution_count": 10
        }
      ]
    },
    {
      "cell_type": "markdown",
      "source": [
        "Feature Extraction Funtion of Four Time Domain Features"
      ],
      "metadata": {
        "id": "qZXJyz4UE3Yr"
      }
    },
    {
      "cell_type": "code",
      "execution_count": 11,
      "metadata": {
        "id": "mquJ9xoMiYiu"
      },
      "outputs": [],
      "source": [
        "window_length = 200\n",
        "overlap = int(window_length * 0.90)\n",
        "sc = StandardScaler()\n",
        "le = LabelEncoder()\n",
        "\n",
        "\n",
        "def extract_feature_dataset(dataframe, window_length=200, overlap=overlap):\n",
        "    column_df = pd.DataFrame()\n",
        "    for col in range(16):\n",
        "        grasp_df = pd.DataFrame()\n",
        "        for grasp_value in range(1, 4):\n",
        "            grasp_rows = dataframe[dataframe['grasp'] == grasp_value]\n",
        "            # Sliding window approach for time domain feature extraction\n",
        "            window_features_df = pd.DataFrame()\n",
        "            window_features = []\n",
        "\n",
        "            for start in range(0, len(grasp_rows) - window_length + 1, overlap):\n",
        "                end = start + window_length\n",
        "                window = grasp_rows[start:end]\n",
        "                window_v = window.iloc[:, col]\n",
        "                window_v = window_v.reset_index(drop=True)\n",
        "                window_v = window_v.values.astype(mpmath.mpf)\n",
        "\n",
        "                rms = np.sqrt(np.mean(window_v ** 2))\n",
        "                mav = np.mean(np.abs(window_v))\n",
        "                std = np.std(window_v)\n",
        "                waveform_length = np.sum(np.abs(np.diff(window_v)))\n",
        "\n",
        "                window_features.extend([rms, mav, std, waveform_length])\n",
        "\n",
        "            window_rows = []\n",
        "\n",
        "            for i in range(0, len(window_features),4): #5\n",
        "                row = {\n",
        "                    f'rms{col+1}': window_features[i],\n",
        "                    f'mav{col+1}': window_features[i+1],\n",
        "                    f'std{col+1}': window_features[i+2],\n",
        "                    f'waveform_length{col+1}': window_features[i+3],\n",
        "                    }\n",
        "\n",
        "                window_rows.append(row)\n",
        "\n",
        "            window_features_df = pd.DataFrame(window_rows)\n",
        "            window_features_df['grasp'] = grasp_value\n",
        "            grasp_df = pd.concat([grasp_df, window_features_df], ignore_index=True)\n",
        "\n",
        "        column_df = pd.concat([column_df, grasp_df], axis=1)\n",
        "\n",
        "    column_df.reset_index(drop=True, inplace=True)\n",
        "\n",
        "    return column_df"
      ]
    },
    {
      "cell_type": "markdown",
      "source": [
        "Time domain feature dataset"
      ],
      "metadata": {
        "id": "wnEOVhtPp_7V"
      }
    },
    {
      "cell_type": "code",
      "source": [
        "df_200 = extract_feature_dataset(df,window_length=200)\n",
        "df_200 = df_200.loc[:, ~df_200.columns.duplicated()]\n",
        "\n",
        "Y_200 = df_200['grasp'].to_frame()\n",
        "Y_200 = le.fit_transform(Y_200)\n",
        "\n",
        "df_200 = df_200.drop('grasp',axis=1)"
      ],
      "metadata": {
        "colab": {
          "base_uri": "https://localhost:8080/"
        },
        "id": "O46eEBolqMj_",
        "outputId": "4c747672-6e5b-42c5-debd-41c2435bfb1e"
      },
      "execution_count": 14,
      "outputs": [
        {
          "output_type": "stream",
          "name": "stderr",
          "text": [
            "/usr/local/lib/python3.10/dist-packages/sklearn/preprocessing/_label.py:116: DataConversionWarning: A column-vector y was passed when a 1d array was expected. Please change the shape of y to (n_samples, ), for example using ravel().\n",
            "  y = column_or_1d(y, warn=True)\n"
          ]
        }
      ]
    },
    {
      "cell_type": "code",
      "source": [
        "sc = StandardScaler()\n",
        "X = sc.fit_transform(df_200)\n",
        "X_train, X_test, Y_train, Y_test = train_test_split(X, Y_200, test_size=0.2)\n",
        "\n",
        "print(X.shape)\n",
        "print(Y_200.shape)\n",
        "print(Y_200)"
      ],
      "metadata": {
        "colab": {
          "base_uri": "https://localhost:8080/"
        },
        "id": "Mf5LgbnDh3aw",
        "outputId": "dc2af005-da96-4c06-80ab-e988a310965f"
      },
      "execution_count": 15,
      "outputs": [
        {
          "output_type": "stream",
          "name": "stdout",
          "text": [
            "(2169, 64)\n",
            "(2169,)\n",
            "[0 0 0 ... 2 2 2]\n"
          ]
        }
      ]
    },
    {
      "cell_type": "markdown",
      "source": [
        "ExtraTrees Classifier"
      ],
      "metadata": {
        "id": "giTDyaNANbAA"
      }
    },
    {
      "cell_type": "code",
      "source": [
        "model = ExtraTreesClassifier(n_estimators=400, min_samples_split=2, max_depth=10, max_features='log2', random_state=42)\n",
        "model.fit(X_train, Y_train)\n",
        "\n",
        "prediction_train = model.predict(X_train)\n",
        "prediction_test = model.predict(X_test)\n",
        "\n",
        "accuracy_train = accuracy_score(Y_train, prediction_train)\n",
        "accuracy_test = accuracy_score(Y_test, prediction_test)\n",
        "\n",
        "print(f\"ExtraTree - Train Accuracy: {accuracy_train:.4f}, Test Accuracy: {accuracy_test:.4f}\")"
      ],
      "metadata": {
        "id": "Kzj_awsRl2ow",
        "colab": {
          "base_uri": "https://localhost:8080/"
        },
        "outputId": "cb6d5963-9269-494e-fd86-16f91c7d794a"
      },
      "execution_count": 16,
      "outputs": [
        {
          "output_type": "stream",
          "name": "stdout",
          "text": [
            "ExtraTree - Train Accuracy: 1.0000, Test Accuracy: 0.9908\n"
          ]
        }
      ]
    },
    {
      "cell_type": "markdown",
      "source": [
        "XGB Classifier"
      ],
      "metadata": {
        "id": "-48W8WL6Ne0K"
      }
    },
    {
      "cell_type": "code",
      "source": [
        "model = model = xgb.XGBClassifier(n_estimators=200, max_depth=7, learning_rate=0.05)\n",
        "model.fit(X_train, Y_train)\n",
        "\n",
        "prediction_train = model.predict(X_train)\n",
        "prediction_test = model.predict(X_test)\n",
        "\n",
        "accuracy_train = accuracy_score(Y_train, prediction_train)\n",
        "accuracy_test = accuracy_score(Y_test, prediction_test)\n",
        "\n",
        "print(f\"XGB - Train Accuracy: {accuracy_train:.4f}, Test Accuracy: {accuracy_test:.4f}\")"
      ],
      "metadata": {
        "colab": {
          "base_uri": "https://localhost:8080/"
        },
        "id": "h9knGnFgioja",
        "outputId": "f1a44178-2438-4feb-c187-ca5baaef0e75"
      },
      "execution_count": 18,
      "outputs": [
        {
          "output_type": "stream",
          "name": "stdout",
          "text": [
            "XGB - Train Accuracy: 1.0000, Test Accuracy: 0.9908\n"
          ]
        }
      ]
    },
    {
      "cell_type": "markdown",
      "source": [
        "Random Forest Classifier"
      ],
      "metadata": {
        "id": "AhQn-hbmNmkG"
      }
    },
    {
      "cell_type": "code",
      "source": [
        "model = RandomForestClassifier(n_estimators=200, max_depth=7)\n",
        "model.fit(X_train, Y_train)\n",
        "\n",
        "prediction_train = model.predict(X_train)\n",
        "prediction_test = model.predict(X_test)\n",
        "\n",
        "accuracy_train = accuracy_score(Y_train, prediction_train)\n",
        "accuracy_test = accuracy_score(Y_test, prediction_test)\n",
        "\n",
        "print(f\"Random Forest - Train Accuracy: {accuracy_train:.4f}, Test Accuracy: {accuracy_test:.4f}\")\n"
      ],
      "metadata": {
        "colab": {
          "base_uri": "https://localhost:8080/"
        },
        "id": "h4BE9R7BkoGs",
        "outputId": "f6a95759-54d2-4d6e-a86f-f568c67b3812"
      },
      "execution_count": 19,
      "outputs": [
        {
          "output_type": "stream",
          "name": "stdout",
          "text": [
            "Random Forest - Train Accuracy: 1.0000, Test Accuracy: 0.9908\n"
          ]
        }
      ]
    },
    {
      "cell_type": "markdown",
      "source": [
        "Random Forest Classifier without feature extraction"
      ],
      "metadata": {
        "id": "K10g4V2TlyST"
      }
    },
    {
      "cell_type": "code",
      "source": [
        "df_downsampled = df\n",
        "X = df_downsampled\n",
        "Y = X['grasp'].to_frame().values\n",
        "X = X.drop('grasp',axis=1).values\n",
        "\n",
        "X = sc.fit_transform(X)\n",
        "X_train, X_test, Y_train, Y_test = train_test_split(X, Y, test_size=0.2)\n",
        "\n",
        "print(X.shape)\n",
        "print(Y.shape)\n",
        "\n",
        "model = RandomForestClassifier(n_estimators=200, max_depth=7)\n",
        "model.fit(X_train, Y_train)\n",
        "\n",
        "prediction_train = model.predict(X_train)\n",
        "prediction_test = model.predict(X_test)\n",
        "\n",
        "accuracy_train = accuracy_score(Y_train, prediction_train)\n",
        "accuracy_test = accuracy_score(Y_test, prediction_test)\n",
        "\n",
        "print(f\"Random Forest - Train Accuracy: {accuracy_train:.4f}, Test Accuracy: {accuracy_test:.4f}\")"
      ],
      "metadata": {
        "colab": {
          "base_uri": "https://localhost:8080/"
        },
        "id": "-8jGKsGLlC6G",
        "outputId": "4eead078-1e82-4a9e-cb8e-c0a38f54c23b"
      },
      "execution_count": 20,
      "outputs": [
        {
          "output_type": "stream",
          "name": "stdout",
          "text": [
            "(390801, 16)\n",
            "(390801, 1)\n"
          ]
        },
        {
          "output_type": "stream",
          "name": "stderr",
          "text": [
            "<ipython-input-20-b8100c0f1d7f>:13: DataConversionWarning: A column-vector y was passed when a 1d array was expected. Please change the shape of y to (n_samples,), for example using ravel().\n",
            "  model.fit(X_train, Y_train)\n"
          ]
        },
        {
          "output_type": "stream",
          "name": "stdout",
          "text": [
            "Random Forest - Train Accuracy: 0.4683, Test Accuracy: 0.4664\n"
          ]
        }
      ]
    }
  ]
}